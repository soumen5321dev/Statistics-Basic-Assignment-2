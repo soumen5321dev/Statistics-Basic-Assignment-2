{
 "cells": [
  {
   "cell_type": "markdown",
   "id": "ab46c897-97ba-4574-b5bf-61bf2d0ea1c8",
   "metadata": {},
   "source": [
    "# Q1. What are the three measures of central tendency?"
   ]
  },
  {
   "cell_type": "code",
   "execution_count": null,
   "id": "52aaa0b0-1aaa-418b-bc37-d5b54c37a440",
   "metadata": {},
   "outputs": [],
   "source": [
    "There are three measures of central tendency they are Mean, Median and Mode\n",
    "\n",
    "Mean: The mean is the average of all the data points in a dataset. It is calculated by summing all the values and\n",
    "then dividing by the number of values.\n",
    "\n",
    "Median: The median is the middle value in a sorted dataset. If the dataset has an odd number of observations, the\n",
    "median is the middle value. If it has an even number of observations, the median is the average of the two middle\n",
    "values.\n",
    "\n",
    "Mode: The mode is the value that appears most frequently in a dataset. A dataset can have no mode, one mode\n",
    "(unimodal), or more than one mode (bimodal or multimodal)."
   ]
  },
  {
   "cell_type": "markdown",
   "id": "aa4137d8-3a28-4ac6-8baa-8dedb7dd4c68",
   "metadata": {},
   "source": [
    "# Q2. What is the difference between the mean, median, and mode? How are they used to measure the central tendency of a dataset?"
   ]
  },
  {
   "cell_type": "code",
   "execution_count": null,
   "id": "87afd982-f778-4402-90a4-d4fd774a001d",
   "metadata": {},
   "outputs": [],
   "source": [
    "Mean, median, and mode are three key measures of central tendency in statistics. They provide different perspectives\n",
    "on where the \"center\" of a dataset lies.\n",
    "\n",
    "Mean:\n",
    "Definition: The mean is the arithmetic average of a dataset. It is calculated by summing all the values and then\n",
    "dividing by the number of values.\n",
    "Use: The mean is useful when you want to consider all the data points and is particularly informative in symmetric\n",
    "distributions. However, it can be influenced by outliers, which may distort the overall picture.\n",
    "\n",
    "Median:\n",
    "Definition: The median is the middle value of a dataset when the values are arranged in ascending or descending\n",
    "order. If there’s an even number of observations, the median is the average of the two middle numbers.\n",
    "Use: The median is useful when the dataset has outliers or is skewed, as it is not affected by extremely high or\n",
    "low values. It provides a better measure of the central tendency in such cases.\n",
    "\n",
    "Mode:\n",
    "Definition: The mode is the value that appears most frequently in a dataset. A dataset may have one mode, more than\n",
    "one mode, or no mode at all if no number repeats.\n",
    "Use: The mode is useful for categorical data, where we wish to know which is the most common category. It can also\n",
    "be helpful in identifying the most common occurrence in a dataset.\n",
    "\n",
    "\n",
    "How They Measure Central Tendency:\n",
    "Mean: Reflects the \"average\" value, providing a sense of the overall level of the dataset.\n",
    "Median: Highlights the \"middle\" value, offering a sense of the dataset's center, especially when the data is skewed.\n",
    "Mode: Points out the \"most common\" value, useful in understanding the most frequent occurrence."
   ]
  },
  {
   "cell_type": "markdown",
   "id": "9bffbf39-18a1-44dd-868b-5bd41a5083f5",
   "metadata": {},
   "source": [
    "# Q3. Measure the three measures of central tendency for the given height data: [178,177,176,177,178.2,178,175,179,180,175,178.9,176.2,177,172.5,178,176.5]"
   ]
  },
  {
   "cell_type": "code",
   "execution_count": 1,
   "id": "4c29cdfe-0a2f-4496-921d-c7db6a4dc998",
   "metadata": {},
   "outputs": [],
   "source": [
    "height = [178,177,176,177,178.2,178,175,179,180,175,178.9,176.2,177,172.5,178,176.5]"
   ]
  },
  {
   "cell_type": "code",
   "execution_count": 2,
   "id": "9210251d-eac0-400b-bbf6-5916b14f64bf",
   "metadata": {},
   "outputs": [
    {
     "data": {
      "text/plain": [
       "np.float64(177.01875)"
      ]
     },
     "execution_count": 2,
     "metadata": {},
     "output_type": "execute_result"
    }
   ],
   "source": [
    "import numpy as np\n",
    "np.mean(height)"
   ]
  },
  {
   "cell_type": "code",
   "execution_count": 3,
   "id": "7cce84dc-3b43-496a-ab03-14e8593a9f45",
   "metadata": {},
   "outputs": [
    {
     "data": {
      "text/plain": [
       "np.float64(177.0)"
      ]
     },
     "execution_count": 3,
     "metadata": {},
     "output_type": "execute_result"
    }
   ],
   "source": [
    "np.median(height)"
   ]
  },
  {
   "cell_type": "code",
   "execution_count": 6,
   "id": "561bf60b-f816-45eb-8249-1f25740530f4",
   "metadata": {},
   "outputs": [
    {
     "data": {
      "text/plain": [
       "ModeResult(mode=np.float64(177.0), count=np.int64(3))"
      ]
     },
     "execution_count": 6,
     "metadata": {},
     "output_type": "execute_result"
    }
   ],
   "source": [
    "from scipy import stats\n",
    "stats.mode(height)"
   ]
  },
  {
   "cell_type": "markdown",
   "id": "26d173a2-bdb5-4845-acb8-9c5eca38bc5d",
   "metadata": {},
   "source": [
    "# Q4. Find the standard deviation for the given data: [178,177,176,177,178.2,178,175,179,180,175,178.9,176.2,177,172.5,178,176.5]"
   ]
  },
  {
   "cell_type": "code",
   "execution_count": 7,
   "id": "1e953f11-e649-4fdd-af39-132ab7b94a2e",
   "metadata": {},
   "outputs": [],
   "source": [
    "data = [178,177,176,177,178.2,178,175,179,180,175,178.9,176.2,177,172.5,178,176.5]"
   ]
  },
  {
   "cell_type": "code",
   "execution_count": 9,
   "id": "6e5a30c2-f944-49b1-8cc1-0ef2d09c60da",
   "metadata": {},
   "outputs": [
    {
     "data": {
      "text/plain": [
       "np.float64(1.7885814036548633)"
      ]
     },
     "execution_count": 9,
     "metadata": {},
     "output_type": "execute_result"
    }
   ],
   "source": [
    "np.std(data)"
   ]
  },
  {
   "cell_type": "markdown",
   "id": "c1d0577d-a3c1-4435-ad20-7cdf1ba130be",
   "metadata": {},
   "source": [
    "# Q5. How are measures of dispersion such as range, variance, and standard deviation used to describe the spread of a dataset? Provide an example."
   ]
  },
  {
   "cell_type": "code",
   "execution_count": null,
   "id": "a73cfbf4-5d2c-4ffb-aa27-f97628b2d743",
   "metadata": {},
   "outputs": [],
   "source": [
    "Measures of dispersion such as range, variance, and standard deviation describe how spread out the values in a\n",
    "dataset are. These measures help to understand the variability or consistency within the data.\n",
    "\n",
    "1.Range:\n",
    "\n",
    "Definition: The range is the difference between the maximum and minimum values in a dataset.\n",
    "Formula: Maximum Value − Minimum Value\n",
    "Use: The range gives a quick sense of the spread by indicating the overall distance between the smallest and largest\n",
    "values. However, it only considers the two extreme values and ignores the distribution of the rest of the data.\n",
    "Example: Consider the dataset: [3,7,8,12,15]. The range is: 15 - 3 = 12\n",
    "\n",
    "\n",
    "2.Variance:\n",
    "\n",
    "Definition: Variance measures the average squared deviation of each data point from the mean. It gives an idea of\n",
    "how much the data points differ from the mean.\n",
    "Use: Variance gives a sense of the overall variability in the dataset. Larger variance indicates more spread out\n",
    "data, while smaller variance indicates that the data points are closer to the mean.\n",
    "Example: For the dataset [3,7,8,12,15], the mean μ is 9, and the variance is: 86/5\n",
    "\n",
    "3.Standard Deviation:\n",
    "\n",
    "Definition: The standard deviation is the square root of the variance, bringing the measure of spread back to the\n",
    "original units of the data.\n",
    "Use: The standard deviation is widely used because it provides a measure of spread that is in the same units as the\n",
    "data. It is more interpretable than variance and is a key measure in assessing how much individual data points\n",
    "deviate from the mean.\n",
    "Example: Continuing with the dataset [3,7,8,12,15], the standard deviation is: 4.15"
   ]
  },
  {
   "cell_type": "markdown",
   "id": "b4a7d580-967e-40bb-a0a4-ce127e2ff9f8",
   "metadata": {},
   "source": [
    "# Q6. What is a Venn diagram?"
   ]
  },
  {
   "cell_type": "code",
   "execution_count": null,
   "id": "5bcb7a0f-aa52-4db5-9b72-bf0084d69f27",
   "metadata": {},
   "outputs": [],
   "source": [
    "A Venn diagram uses overlapping circles or other shapes to illustrate the logical relationships between two or more\n",
    "sets of items. Often, they serve to graphically organize things, highlighting how the items are similar and\n",
    "different."
   ]
  },
  {
   "cell_type": "markdown",
   "id": "322c3712-bdf8-4df1-b9d4-09236a78e554",
   "metadata": {},
   "source": [
    "# Q7. For the two given sets A = (2,3,4,5,6,7) & B = (0,2,6,8,10). Find:\n",
    "# (i) A (intersection) B\n",
    "# (ii) A ⋃ B"
   ]
  },
  {
   "cell_type": "code",
   "execution_count": null,
   "id": "9a5f451e-2a1b-4719-acb2-1f72cf6326e6",
   "metadata": {},
   "outputs": [],
   "source": [
    "(i) A (intersection) B: {2,6}\n",
    "(ii) A (union) B: {0,2,3,4,5,6,7,8,10}"
   ]
  },
  {
   "cell_type": "markdown",
   "id": "bedeb534-61ee-4b7d-855a-8b9061cdf97e",
   "metadata": {},
   "source": [
    "# Q8. What do you understand about skewness in data?"
   ]
  },
  {
   "cell_type": "code",
   "execution_count": null,
   "id": "45a4f8db-2720-452f-831d-7283b4f37349",
   "metadata": {},
   "outputs": [],
   "source": [
    "Skewness is the degree of asymmetry observed in a probability distribution. When data points on a bell curve are not\n",
    "distributed symmetrically to the left and right sides of the median, the bell curve is skewed. Distributions can be\n",
    "positive and right-skewed, or negative and left-skewed."
   ]
  },
  {
   "cell_type": "markdown",
   "id": "61db1a90-ef5c-489a-abcd-1b8e37ac65fb",
   "metadata": {},
   "source": [
    "# Q9. If a data is right skewed then what will be the position of median with respect to mean?"
   ]
  },
  {
   "cell_type": "code",
   "execution_count": null,
   "id": "2bd6243d-e51a-44d6-94fc-a10caa687bc1",
   "metadata": {},
   "outputs": [],
   "source": [
    "In a right-skewed distribution (also known as positively skewed), the mean is typically greater than the median.\n",
    "Position of Median with Respect to Mean:\n",
    "Mean > Median\n",
    "\n",
    "In a right-skewed distribution, the median is typically located to the left of the mean."
   ]
  },
  {
   "cell_type": "markdown",
   "id": "c5d417ea-4675-4bf4-b423-81c7281048b7",
   "metadata": {},
   "source": [
    "# Q10. Explain the difference between covariance and correlation. How are these measures used in statistical analysis?"
   ]
  },
  {
   "cell_type": "code",
   "execution_count": null,
   "id": "00d9336e-a0e3-4ef7-ab89-b864352a60a7",
   "metadata": {},
   "outputs": [],
   "source": [
    "Scale:\n",
    "\n",
    "Covariance: Depends on the scale of the variables, making it less interpretable.\n",
    "Correlation: Standardized to a range between −1 and 1 allowing easy interpretation of strength and direction.\n",
    "\n",
    "Interpretation:\n",
    "\n",
    "Covariance: Indicates the direction of the relationship but not the strength.\n",
    "Correlation: Indicates both the direction and strength of the relationship.\n",
    "\n",
    "Use in Statistical Analysis:\n",
    "Covariance is often a preliminary measure used to assess whether two variables tend to move together. It’s used in\n",
    "fields like portfolio theory in finance, where it helps to understand how asset returns move together.\n",
    "\n",
    "Correlation is more commonly used in statistical analysis because it provides a clearer, scale-independent\n",
    "understanding of the relationship between variables. It's used in regression analysis, hypothesis testing, and\n",
    "many other statistical methods where understanding the strength and direction of relationships is crucial."
   ]
  },
  {
   "cell_type": "markdown",
   "id": "86042323-07bf-4468-8528-4457513541b9",
   "metadata": {},
   "source": [
    "# Q11. What is the formula for calculating the sample mean? Provide an example calculation for a dataset."
   ]
  },
  {
   "cell_type": "code",
   "execution_count": null,
   "id": "681176d2-e009-4843-902c-acc6b8632aa8",
   "metadata": {},
   "outputs": [],
   "source": [
    "The sample mean is calculated by summing all the data points in a sample and then dividing by the number of data\n",
    "points in that sample.\n",
    "\n",
    "Example Calculation:\n",
    "\n",
    "Consider a dataset of exam scores: 85,90,78,92,88.\n",
    "\n",
    "Step 1: Sum all the data points. 85+90+78+92+88=433\n",
    "Step 2: Count the number of data points. n=5\n",
    "Step 3: Divide the sum by the number of data points.\n",
    "\n",
    "Sample Mean: 433/5 = 86.6\n",
    "The sample mean of the dataset 85,90,78,92,88 is 86.6.\n",
    "This value represents the average score of the sample."
   ]
  },
  {
   "cell_type": "markdown",
   "id": "904549f0-0f6a-4587-93dd-a882b12cd441",
   "metadata": {},
   "source": [
    "# Q12. For a normal distribution data what is the relationship between its measure of central tendency?"
   ]
  },
  {
   "cell_type": "code",
   "execution_count": null,
   "id": "96b49572-c645-469c-9431-4dd269c3c512",
   "metadata": {},
   "outputs": [],
   "source": [
    "In a normal distribution, the three primary measures of central tendency—the mean, median, and mode—are all equal.\n",
    "This is one of the key characteristics of a normal distribution.\n",
    "\n",
    "Relationship in a Normal Distribution: Mean = Median = Mode"
   ]
  },
  {
   "cell_type": "markdown",
   "id": "7b25c052-5c18-4d9c-8168-ae000592d6a5",
   "metadata": {},
   "source": [
    "# Q13. How is covariance different from correlation?"
   ]
  },
  {
   "cell_type": "code",
   "execution_count": null,
   "id": "2a7f8c0f-e7a7-4aa7-afa1-2f210b2c7f15",
   "metadata": {},
   "outputs": [],
   "source": [
    "Scale:\n",
    "\n",
    "Covariance: Depends on the scale of the variables.\n",
    "Correlation: Standardized to a range between −1 and 1\n",
    "\n",
    "Interpretation:\n",
    "\n",
    "Covariance: Indicates the direction of the relationship, but its magnitude is hard to interpret.\n",
    "Correlation: Indicates both the direction and strength of the relationship in a clear, interpretable way.\n",
    "\n",
    "Usage:\n",
    "\n",
    "Covariance: Useful for determining the direction of a relationship.\n",
    "Correlation: More commonly used for quantifying both the direction and strength of a relationship."
   ]
  },
  {
   "cell_type": "markdown",
   "id": "964ffc5c-3569-4981-9ae4-e0b7fd03e560",
   "metadata": {},
   "source": [
    "# Q14. How do outliers affect measures of central tendency and dispersion? Provide an example."
   ]
  },
  {
   "cell_type": "code",
   "execution_count": null,
   "id": "500acd29-7b31-42a9-bcfd-03f6e0ea7eef",
   "metadata": {},
   "outputs": [],
   "source": [
    "Outliers are data points that are significantly different from the rest of the dataset. They can have a substantial\n",
    "impact on measures of central tendency (mean, median, mode) and measures of dispersion (range, variance,\n",
    "standard deviation). Here's how:\n",
    "\n",
    "Impact on Measures of Central Tendency:\n",
    "\n",
    "1.Mean:\n",
    "\n",
    "The mean is highly sensitive to outliers because it is calculated by summing all the data points and dividing by the\n",
    "number of data points. An outlier can skew the mean, making it less representative of the dataset.\n",
    "Example: Consider the dataset [10,12,14,16,100]. The mean is: (10+12+14+16+100)/5 = 152/5 = 30.4\n",
    "Without the outlier (100), the mean of [10,12,14,16] would be 13, which is more representative of the data.\n",
    "\n",
    "2.Median:\n",
    "\n",
    "The median is less affected by outliers because it is the middle value of a sorted dataset. Since it depends only on\n",
    "the order of the data, an extreme value does not influence it as much.\n",
    "Example: For the same dataset [10,12,14,16,100], the median is 14. Even if 100 is replaced with an extreme value\n",
    "like 1000, the median remains 14.\n",
    "\n",
    "3.Mode:\n",
    "\n",
    "The mode is unaffected by outliers since it depends on the frequency of occurrence. Outliers typically do not change\n",
    "the mode unless they are repeated often.\n",
    "Example: In the dataset [10,12,14,16,100], there is no mode, and introducing an outlier doesn’t create one.\n",
    "\n",
    "\n",
    "Impact on Measures of Dispersion:\n",
    "\n",
    "1.Range:\n",
    "\n",
    "The range is highly sensitive to outliers since it is the difference between the maximum and minimum values. An\n",
    "outlier can significantly increase the range, making it less reflective of the typical spread.\n",
    "Example: In the dataset [10,12,14,16,100], the range is: 100 - 10 = 90\n",
    "Without the outlier (100), the range of [10,12,14,16] would be 6.\n",
    "\n",
    "2.Variance and Standard Deviation:\n",
    "\n",
    "Both variance and standard deviation are affected by outliers because they involve the squared differences between\n",
    "each data point and the mean. An outlier can significantly increase these measures, indicating greater dispersion.\n",
    "Example: For the dataset [10,12,14,16,100], the mean is 30.4. The variance would be higher due to the large squared\n",
    "difference contributed by the outlier 100. The standard deviation, as the square root of variance, will also be\n",
    "higher. Without the outlier, both measures would be lower, reflecting less variability in the data."
   ]
  },
  {
   "cell_type": "code",
   "execution_count": null,
   "id": "84515b08-8f60-4d9b-a40b-e5af8f2dd102",
   "metadata": {},
   "outputs": [],
   "source": []
  },
  {
   "cell_type": "code",
   "execution_count": null,
   "id": "721b7e78-6669-4b56-a63f-13b6023f46d0",
   "metadata": {},
   "outputs": [],
   "source": []
  }
 ],
 "metadata": {
  "kernelspec": {
   "display_name": "Python 3 (ipykernel)",
   "language": "python",
   "name": "python3"
  },
  "language_info": {
   "codemirror_mode": {
    "name": "ipython",
    "version": 3
   },
   "file_extension": ".py",
   "mimetype": "text/x-python",
   "name": "python",
   "nbconvert_exporter": "python",
   "pygments_lexer": "ipython3",
   "version": "3.12.4"
  }
 },
 "nbformat": 4,
 "nbformat_minor": 5
}
